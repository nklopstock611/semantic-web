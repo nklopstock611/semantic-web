{
 "cells": [
  {
   "cell_type": "markdown",
   "metadata": {},
   "source": [
    "# Definición Ontología - Entrega 2 Proyecto Semantic Web\n"
   ]
  },
  {
   "cell_type": "markdown",
   "metadata": {},
   "source": [
    "En este archivo se define la ontología usada para el proyecto. A partir de los datos obtenidos en la entrega 1 se definen:\n",
    "- Tipos de datos\n",
    "- Clases y subclases\n",
    "- Propiedades y subpropiedades\n",
    "- Restricciones y características de las entidades"
   ]
  },
  {
   "cell_type": "markdown",
   "metadata": {},
   "source": [
    "## Instalación dependencias "
   ]
  },
  {
   "cell_type": "code",
   "execution_count": 1,
   "metadata": {},
   "outputs": [
    {
     "name": "stdout",
     "output_type": "stream",
     "text": [
      "Collecting rdflib\n",
      "  Downloading rdflib-7.0.0-py3-none-any.whl.metadata (11 kB)\n",
      "Collecting isodate<0.7.0,>=0.6.0 (from rdflib)\n",
      "  Downloading isodate-0.6.1-py2.py3-none-any.whl.metadata (9.6 kB)\n",
      "Requirement already satisfied: pyparsing<4,>=2.1.0 in /home/codespace/.local/lib/python3.10/site-packages (from rdflib) (3.1.2)\n",
      "Requirement already satisfied: six in /home/codespace/.local/lib/python3.10/site-packages (from isodate<0.7.0,>=0.6.0->rdflib) (1.16.0)\n",
      "Downloading rdflib-7.0.0-py3-none-any.whl (531 kB)\n",
      "\u001b[2K   \u001b[90m━━━━━━━━━━━━━━━━━━━━━━━━━━━━━━━━━━━━━━━━\u001b[0m \u001b[32m531.9/531.9 kB\u001b[0m \u001b[31m9.1 MB/s\u001b[0m eta \u001b[36m0:00:00\u001b[0m:00:01\u001b[0m\n",
      "\u001b[?25hDownloading isodate-0.6.1-py2.py3-none-any.whl (41 kB)\n",
      "\u001b[2K   \u001b[90m━━━━━━━━━━━━━━━━━━━━━━━━━━━━━━━━━━━━━━━━\u001b[0m \u001b[32m41.7/41.7 kB\u001b[0m \u001b[31m1.1 MB/s\u001b[0m eta \u001b[36m0:00:00\u001b[0m\n",
      "\u001b[?25hInstalling collected packages: isodate, rdflib\n",
      "Successfully installed isodate-0.6.1 rdflib-7.0.0\n"
     ]
    }
   ],
   "source": [
    "!pip install rdflib"
   ]
  },
  {
   "cell_type": "code",
   "execution_count": 5,
   "metadata": {},
   "outputs": [],
   "source": [
    "from rdflib import Graph, Literal, RDF, URIRef, Namespace, BNode, XSD, Bag, Seq\n",
    "from rdflib.namespace import RDF, RDFS, OWL"
   ]
  },
  {
   "cell_type": "markdown",
   "metadata": {},
   "source": [
    "## Definición de espacio de nombres"
   ]
  },
  {
   "cell_type": "code",
   "execution_count": 6,
   "metadata": {},
   "outputs": [],
   "source": [
    "g = Graph()\n",
    "\n",
    "# Definición de los prefijos de los espacios de nombres\n",
    "g.bind('rdf', RDF)\n",
    "g.bind('rdfs', RDFS)\n",
    "g.bind('owl', OWL)\n",
    "g.bind(\"xsd\", XSD)\n",
    "\n",
    "# Definición de los prefijos de ontologías y recursos\n",
    "UEX = Namespace(\"http://www.uniandes.web.semantica.example.org/\")\n",
    "UEV = Namespace(\"http://www.uniandes.web.semantica.ejemplo.org/voca#\")\n",
    "g.bind('uex', UEX)\n",
    "g.bind('uev', UEV)"
   ]
  },
  {
   "cell_type": "markdown",
   "metadata": {},
   "source": [
    "## Definición de clases"
   ]
  },
  {
   "cell_type": "markdown",
   "metadata": {},
   "source": [
    "De la primera entrega se identificaron diferentes clases que hacen parte de la ontología de papers. En esta sección se definen estas clases usando la definición de tipo rdfs: Class. Las clases definidas son las siguientes:\n",
    "- Paper\n",
    "- Author\n",
    "- Referencia (Subclase Paper)\n",
    "\n",
    "Así mismo, se revisaron que atributos son comunmente definidos como clases en DBPedia, de lo cual definimos los siguientes atributos como Clases en preparación a la entrega 3:\n",
    "- Concept Annotation\n",
    "- Country\n",
    "- City\n",
    "- Meeting\n"
   ]
  },
  {
   "cell_type": "code",
   "execution_count": 7,
   "metadata": {},
   "outputs": [
    {
     "data": {
      "text/plain": [
       "<Graph identifier=N9b9eb9b8992a4511a76406d277abec36 (<class 'rdflib.graph.Graph'>)>"
      ]
     },
     "execution_count": 7,
     "metadata": {},
     "output_type": "execute_result"
    }
   ],
   "source": [
    "# Clases principales\n",
    "g.add((UEV.Paper, RDF.type, RDFS.Class))\n",
    "g.add((UEV.Author, RDF.type, RDFS.Class))\n",
    "g.add((UEV.Reference, RDF.type, RDFS.Class))\n",
    "\n",
    "# Clases para el futuro\n",
    "g.add((UEV.ConceptAnnotation, RDF.type, RDFS.Class))\n",
    "g.add((UEV.Country, RDF.type, RDFS.Class))\n",
    "g.add((UEV.City, RDF.type, RDFS.Class))\n",
    "g.add((UEV.Meeting, RDF.type, RDFS.Class))"
   ]
  },
  {
   "cell_type": "markdown",
   "metadata": {},
   "source": [
    "### Definición de Subclases"
   ]
  },
  {
   "cell_type": "markdown",
   "metadata": {},
   "source": [
    "Se identifica que una referencia sigue siendo un paper pero es una subclase de paper, por lo que se define acorde."
   ]
  },
  {
   "cell_type": "code",
   "execution_count": 8,
   "metadata": {},
   "outputs": [
    {
     "data": {
      "text/plain": [
       "<Graph identifier=N9b9eb9b8992a4511a76406d277abec36 (<class 'rdflib.graph.Graph'>)>"
      ]
     },
     "execution_count": 8,
     "metadata": {},
     "output_type": "execute_result"
    }
   ],
   "source": [
    "g.add((UEV.Reference, RDFS.subClassOf, UEV.Paper))"
   ]
  },
  {
   "cell_type": "markdown",
   "metadata": {},
   "source": [
    "## Definición de Propiedades"
   ]
  },
  {
   "cell_type": "markdown",
   "metadata": {},
   "source": [
    "De la primera entrega se identificaron diferentes propiedades que hacen parte de la ontología de papers. En esta sección se definen estas propiedades usando la definición de tipo rdfs: Property. Las propiedades definidas de atributos son las siguientes:\n",
    "- Paper\n",
    "  - Text\n",
    "    - Title (Sub)\n",
    "    - Abstract (Sub)\n",
    "    - Concept_Anotation (Sub)\n",
    "  - Publication_Date\n",
    "- Author\n",
    "  - Forename\n",
    "  - Surname\n",
    "  - Email\n",
    "  - Afilliation\n",
    "  - Adress_Line\n",
    "  - Post_code\n",
    "  - Settlement\n",
    "  - Country\n",
    "- Referencia (Subclase Paper)\n",
    "  - Title\n",
    "  - Publication_Date\n",
    "  - Meeting\n",
    "  - City\n",
    "  - Country\n",
    "  - Note\n",
    "\n",
    "Así mismo, se identificaron las siguientes relaciones entre clases :\n",
    "- Un paper tiene autores\n",
    "- Un autor tiene papers\n",
    "- Un paper tiene referencias\n",
    "- Una referencia esta asociada a papers"
   ]
  },
  {
   "cell_type": "code",
   "execution_count": null,
   "metadata": {},
   "outputs": [],
   "source": [
    "# Valores de Paper\n",
    "g.add((UEV.Text, RDF.type, RDF.Property))\n",
    "g.add((UEV.Title, RDF.type, RDF.Property))\n",
    "g.add((UEV.Abstract, RDF.type, RDF.Property))\n",
    "g.add((UEV.Introduction, RDF.type, RDF.Property))\n",
    "g.add((UEV.Conclusion, RDF.type, RDF.Property))\n",
    "\n",
    "g.add((UEV.hasConcept_Annotation, RDF.type, RDF.Property)) # Clase futura\n",
    "g.add((UEV.Publication_Date, RDF.type, RDF.Property))\n",
    "\n",
    "# Valores de Author\n",
    "g.add((UEV.Forename, RDF.type, RDF.Property))\n",
    "g.add((UEV.Surname, RDF.type, RDF.Property))\n",
    "g.add((UEV.Email, RDF.type, RDF.Property))\n",
    "g.add((UEV.Affiliation, RDF.type, RDF.Property))\n",
    "g.add((UEV.Address_Line, RDF.type, RDF.Property))\n",
    "g.add((UEV.Post_code, RDF.type, RDF.Property))\n",
    "g.add((UEV.Settlement, RDF.type, RDF.Property))\n",
    "g.add((UEV.hasCountry, RDF.type, RDF.Property)) # Clase futura\n",
    "\n",
    "# Valores especificos de referencias\n",
    "g.add((UEV.hasMeeting, RDF.type, RDF.Property)) # Clase futura\n",
    "g.add((UEV.hasCity, RDF.type, RDF.Property)) # Clase futura\n",
    "g.add((UEV.Note, RDF.type, RDF.Property))\n",
    "\n",
    "# Relaciones\n",
    "g.add((UEV.hasAuthor, RDF.type, RDF.Property))\n",
    "g.add((UEV.hasReference, RDF.type, RDF.Property))\n",
    "g.add((UEV.isAuthorOf, RDF.type, RDF.Property))\n",
    "g.add((UEV.isReferencedBy, RDF.type, RDF.Property))"
   ]
  },
  {
   "cell_type": "markdown",
   "metadata": {},
   "source": [
    "### Definición de Subpropiedades"
   ]
  },
  {
   "cell_type": "markdown",
   "metadata": {},
   "source": [
    "Se identifica que existen propiedades que hace referencia a texto de los papers, por lo que Title, Abstract y Concept_Anotation se pueden considerar subpropiedades de Text"
   ]
  },
  {
   "cell_type": "code",
   "execution_count": null,
   "metadata": {},
   "outputs": [],
   "source": [
    "g.add((UEV.Title, RDFS.subPropertyOf, UEV.Text))\n",
    "g.add((UEV.Abstract, RDFS.subPropertyOf, UEV.Text))\n",
    "g.add((UEV.Concept_Annotation, RDFS.subPropertyOf, UEV.Text))\n",
    "g.add((UEV.Introduction, RDFS.subPropertyOf, UEV.Text))\n",
    "g.add((UEV.Conclusion, RDFS.subPropertyOf, UEV.Text))"
   ]
  },
  {
   "cell_type": "markdown",
   "metadata": {},
   "source": [
    "### Definición de Dominio y Rango"
   ]
  },
  {
   "cell_type": "markdown",
   "metadata": {},
   "source": [
    "En esta sección se definieron los dominios y rangos para las propiedades definidas anteriormente"
   ]
  },
  {
   "cell_type": "code",
   "execution_count": null,
   "metadata": {},
   "outputs": [],
   "source": [
    "# Texto \n",
    "g.add((UEV.Text, RDFS.domain, UEV.Paper))\n",
    "g.add((UEV.Text, RDFS.range, XSD.string))\n",
    "# Title\n",
    "g.add((UEV.Title, RDFS.domain, UEV.Paper))\n",
    "g.add((UEV.Title, RDFS.range, XSD.string))\n",
    "# Abstract\n",
    "g.add((UEV.Abstract, RDFS.domain, UEV.Paper))\n",
    "g.add((UEV.Abstract, RDFS.range, XSD.string))\n",
    "# Introduction\n",
    "g.add((UEV.Introduction, RDFS.domain, UEV.Paper))\n",
    "g.add((UEV.Introduction, RDFS.range, XSD.string))\n",
    "# Conclusion\n",
    "g.add((UEV.Conclusion, RDFS.domain, UEV.Paper))\n",
    "g.add((UEV.Conclusion, RDFS.range, XSD.string))\n",
    "# Concept_Anotation\n",
    "g.add((UEV.hasConcept_Annotation, RDFS.domain, UEV.Paper))\n",
    "g.add((UEV.hasConcept_Annotation, RDFS.range, UEV.ConceptAnnotation))\n",
    "# Publication_Date (Puede tener año, año-mes o año-mes-día) -- Revisar si es posible estandarizar formato y pasar a date\n",
    "g.add((UEV.Publication_Date, RDFS.domain, UEV.Paper))\n",
    "g.add((UEV.Publication_Date, RDFS.range, XSD.string))\n",
    "\n",
    "# Forename\n",
    "g.add((UEV.Forename, RDFS.domain, UEV.Author))\n",
    "g.add((UEV.Forename, RDFS.range, XSD.string))\n",
    "# Surname\n",
    "g.add((UEV.Surname, RDFS.domain, UEV.Author))\n",
    "g.add((UEV.Surname, RDFS.range, XSD.string))\n",
    "# Email\n",
    "g.add((UEV.Email, RDFS.domain, UEV.Author))\n",
    "g.add((UEV.Email, RDFS.range, XSD.string))\n",
    "# Affiliation\n",
    "g.add((UEV.Affiliation, RDFS.domain, UEV.Author))\n",
    "g.add((UEV.Affiliation, RDFS.range, XSD.string))\n",
    "# Address_Line\n",
    "g.add((UEV.Address_Line, RDFS.domain, UEV.Author))\n",
    "g.add((UEV.Address_Line, RDFS.range, XSD.string))\n",
    "# Post_code -- Puede ser numero\n",
    "g.add((UEV.Post_code, RDFS.domain, UEV.Author))\n",
    "g.add((UEV.Post_code, RDFS.range, XSD.string))\n",
    "# Settlement\n",
    "g.add((UEV.Settlement, RDFS.domain, UEV.Author))\n",
    "g.add((UEV.Settlement, RDFS.range, XSD.string))\n",
    "# Country -- Pensar modelarlo como clase\n",
    "g.add((UEV.hasCountry, RDFS.domain, UEV.Author))\n",
    "g.add((UEV.hasCountry, RDFS.range, UEV.Country))\n",
    "# Meeting\n",
    "g.add((UEV.hasMeeting, RDFS.domain, UEV.Reference))\n",
    "g.add((UEV.hasMeeting, RDFS.range, UEV.Meeting))\n",
    "# City -- Pensar modelarlo como clase\n",
    "g.add((UEV.hasCity, RDFS.domain, UEV.Reference))\n",
    "g.add((UEV.hasCity, RDFS.range, UEV.City))\n",
    "# Note\n",
    "g.add((UEV.Note, RDFS.domain, UEV.Reference))\n",
    "g.add((UEV.Note, RDFS.range, XSD.string))\n",
    "\n",
    "# Relaciones\n",
    "g.add((UEV.hasAuthor, RDFS.domain, UEV.Paper))\n",
    "g.add((UEV.hasAuthor, RDFS.range, UEV.Author))\n",
    "\n",
    "g.add((UEV.hasReference, RDFS.domain, UEV.Paper))\n",
    "g.add((UEV.hasReference, RDFS.range, UEV.Reference))\n",
    "\n",
    "g.add((UEV.isAuthorOf, RDFS.domain, UEV.Author))\n",
    "g.add((UEV.isAuthorOf, RDFS.range, UEV.Paper))\n",
    "\n",
    "g.add((UEV.isReferencedBy, RDFS.domain, UEV.Reference))\n",
    "g.add((UEV.isReferencedBy, RDFS.range, UEV.Paper))"
   ]
  },
  {
   "cell_type": "markdown",
   "metadata": {},
   "source": [
    "## Definición Restricciones y Caracteristicas Ontología"
   ]
  },
  {
   "cell_type": "markdown",
   "metadata": {},
   "source": [
    "En esta sección se definen las restricciones y caracteristicas para las clases y propiedades, por lo que se dividira en estas dos secciones"
   ]
  },
  {
   "cell_type": "code",
   "execution_count": null,
   "metadata": {},
   "outputs": [],
   "source": [
    "#  Clases Disjuntas\n",
    "g.add((UEV.Paper, OWL.disjointWith, UEV.Author))\n",
    "\n",
    "# Restricciones Texto Functional Property\n"
   ]
  },
  {
   "cell_type": "markdown",
   "metadata": {},
   "source": [
    "# Definición Instancias"
   ]
  },
  {
   "cell_type": "markdown",
   "metadata": {},
   "source": [
    "Las instancias en este caso se definen a partir del desarrollo en la entrega 1, por lo que se pasan los datos desde un JSON a la ontología"
   ]
  },
  {
   "cell_type": "code",
   "execution_count": 19,
   "metadata": {},
   "outputs": [
    {
     "ename": "KeyboardInterrupt",
     "evalue": "",
     "output_type": "error",
     "traceback": [
      "\u001b[1;31m---------------------------------------------------------------------------\u001b[0m",
      "\u001b[1;31mKeyboardInterrupt\u001b[0m                         Traceback (most recent call last)",
      "Cell \u001b[1;32mIn[19], line 39\u001b[0m\n\u001b[0;32m     28\u001b[0m \u001b[38;5;28;01mfor\u001b[39;00m author \u001b[38;5;129;01min\u001b[39;00m paper_content\u001b[38;5;241m.\u001b[39mget(\u001b[38;5;124m'\u001b[39m\u001b[38;5;124mpaper_authors\u001b[39m\u001b[38;5;124m'\u001b[39m, []):  \u001b[38;5;66;03m# Cambia 'authors' por la llave correcta\u001b[39;00m\n\u001b[0;32m     29\u001b[0m     author_info \u001b[38;5;241m=\u001b[39m {\n\u001b[0;32m     30\u001b[0m         \u001b[38;5;124m'\u001b[39m\u001b[38;5;124mforename\u001b[39m\u001b[38;5;124m'\u001b[39m: author\u001b[38;5;241m.\u001b[39mget(\u001b[38;5;124m'\u001b[39m\u001b[38;5;124mpaper_author_forename\u001b[39m\u001b[38;5;124m'\u001b[39m, \u001b[38;5;124m'\u001b[39m\u001b[38;5;124m'\u001b[39m),\n\u001b[0;32m     31\u001b[0m         \u001b[38;5;124m'\u001b[39m\u001b[38;5;124msurname\u001b[39m\u001b[38;5;124m'\u001b[39m: author\u001b[38;5;241m.\u001b[39mget(\u001b[38;5;124m'\u001b[39m\u001b[38;5;124mpaper_author_surname\u001b[39m\u001b[38;5;124m'\u001b[39m, \u001b[38;5;124m'\u001b[39m\u001b[38;5;124m'\u001b[39m),\n\u001b[1;32m   (...)\u001b[0m\n\u001b[0;32m     37\u001b[0m         \u001b[38;5;124m'\u001b[39m\u001b[38;5;124mcountry\u001b[39m\u001b[38;5;124m'\u001b[39m: author\u001b[38;5;241m.\u001b[39mget(\u001b[38;5;124m'\u001b[39m\u001b[38;5;124mpaper_author_country\u001b[39m\u001b[38;5;124m'\u001b[39m, \u001b[38;5;124m'\u001b[39m\u001b[38;5;124m'\u001b[39m)\n\u001b[0;32m     38\u001b[0m     }\n\u001b[1;32m---> 39\u001b[0m     \u001b[43mauthors_info\u001b[49m\u001b[38;5;241m.\u001b[39mappend(author_info)\n\u001b[0;32m     41\u001b[0m \u001b[38;5;66;03m# Procesamos las referencias del paper\u001b[39;00m\n\u001b[0;32m     42\u001b[0m \u001b[38;5;28;01mfor\u001b[39;00m reference \u001b[38;5;129;01min\u001b[39;00m paper_content\u001b[38;5;241m.\u001b[39mget(\u001b[38;5;124m'\u001b[39m\u001b[38;5;124mpaper_references\u001b[39m\u001b[38;5;124m'\u001b[39m, []):  \u001b[38;5;66;03m# Cambia 'references' por la llave correcta\u001b[39;00m\n",
      "Cell \u001b[1;32mIn[19], line 39\u001b[0m\n\u001b[0;32m     28\u001b[0m \u001b[38;5;28;01mfor\u001b[39;00m author \u001b[38;5;129;01min\u001b[39;00m paper_content\u001b[38;5;241m.\u001b[39mget(\u001b[38;5;124m'\u001b[39m\u001b[38;5;124mpaper_authors\u001b[39m\u001b[38;5;124m'\u001b[39m, []):  \u001b[38;5;66;03m# Cambia 'authors' por la llave correcta\u001b[39;00m\n\u001b[0;32m     29\u001b[0m     author_info \u001b[38;5;241m=\u001b[39m {\n\u001b[0;32m     30\u001b[0m         \u001b[38;5;124m'\u001b[39m\u001b[38;5;124mforename\u001b[39m\u001b[38;5;124m'\u001b[39m: author\u001b[38;5;241m.\u001b[39mget(\u001b[38;5;124m'\u001b[39m\u001b[38;5;124mpaper_author_forename\u001b[39m\u001b[38;5;124m'\u001b[39m, \u001b[38;5;124m'\u001b[39m\u001b[38;5;124m'\u001b[39m),\n\u001b[0;32m     31\u001b[0m         \u001b[38;5;124m'\u001b[39m\u001b[38;5;124msurname\u001b[39m\u001b[38;5;124m'\u001b[39m: author\u001b[38;5;241m.\u001b[39mget(\u001b[38;5;124m'\u001b[39m\u001b[38;5;124mpaper_author_surname\u001b[39m\u001b[38;5;124m'\u001b[39m, \u001b[38;5;124m'\u001b[39m\u001b[38;5;124m'\u001b[39m),\n\u001b[1;32m   (...)\u001b[0m\n\u001b[0;32m     37\u001b[0m         \u001b[38;5;124m'\u001b[39m\u001b[38;5;124mcountry\u001b[39m\u001b[38;5;124m'\u001b[39m: author\u001b[38;5;241m.\u001b[39mget(\u001b[38;5;124m'\u001b[39m\u001b[38;5;124mpaper_author_country\u001b[39m\u001b[38;5;124m'\u001b[39m, \u001b[38;5;124m'\u001b[39m\u001b[38;5;124m'\u001b[39m)\n\u001b[0;32m     38\u001b[0m     }\n\u001b[1;32m---> 39\u001b[0m     \u001b[43mauthors_info\u001b[49m\u001b[38;5;241m.\u001b[39mappend(author_info)\n\u001b[0;32m     41\u001b[0m \u001b[38;5;66;03m# Procesamos las referencias del paper\u001b[39;00m\n\u001b[0;32m     42\u001b[0m \u001b[38;5;28;01mfor\u001b[39;00m reference \u001b[38;5;129;01min\u001b[39;00m paper_content\u001b[38;5;241m.\u001b[39mget(\u001b[38;5;124m'\u001b[39m\u001b[38;5;124mpaper_references\u001b[39m\u001b[38;5;124m'\u001b[39m, []):  \u001b[38;5;66;03m# Cambia 'references' por la llave correcta\u001b[39;00m\n",
      "File \u001b[1;32m_pydevd_bundle/pydevd_cython.pyx:1457\u001b[0m, in \u001b[0;36m_pydevd_bundle.pydevd_cython.SafeCallWrapper.__call__\u001b[1;34m()\u001b[0m\n",
      "File \u001b[1;32m_pydevd_bundle/pydevd_cython.pyx:701\u001b[0m, in \u001b[0;36m_pydevd_bundle.pydevd_cython.PyDBFrame.trace_dispatch\u001b[1;34m()\u001b[0m\n",
      "File \u001b[1;32m_pydevd_bundle/pydevd_cython.pyx:1395\u001b[0m, in \u001b[0;36m_pydevd_bundle.pydevd_cython.PyDBFrame.trace_dispatch\u001b[1;34m()\u001b[0m\n",
      "File \u001b[1;32m_pydevd_bundle/pydevd_cython.pyx:1344\u001b[0m, in \u001b[0;36m_pydevd_bundle.pydevd_cython.PyDBFrame.trace_dispatch\u001b[1;34m()\u001b[0m\n",
      "File \u001b[1;32m_pydevd_bundle/pydevd_cython.pyx:312\u001b[0m, in \u001b[0;36m_pydevd_bundle.pydevd_cython.PyDBFrame.do_wait_suspend\u001b[1;34m()\u001b[0m\n",
      "File \u001b[1;32m~\\AppData\\Roaming\\Python\\Python311\\site-packages\\debugpy\\_vendored\\pydevd\\pydevd.py:2070\u001b[0m, in \u001b[0;36mPyDB.do_wait_suspend\u001b[1;34m(self, thread, frame, event, arg, exception_type)\u001b[0m\n\u001b[0;32m   2067\u001b[0m             from_this_thread\u001b[38;5;241m.\u001b[39mappend(frame_custom_thread_id)\n\u001b[0;32m   2069\u001b[0m     \u001b[38;5;28;01mwith\u001b[39;00m \u001b[38;5;28mself\u001b[39m\u001b[38;5;241m.\u001b[39m_threads_suspended_single_notification\u001b[38;5;241m.\u001b[39mnotify_thread_suspended(thread_id, thread, stop_reason):\n\u001b[1;32m-> 2070\u001b[0m         keep_suspended \u001b[38;5;241m=\u001b[39m \u001b[38;5;28;43mself\u001b[39;49m\u001b[38;5;241;43m.\u001b[39;49m\u001b[43m_do_wait_suspend\u001b[49m\u001b[43m(\u001b[49m\u001b[43mthread\u001b[49m\u001b[43m,\u001b[49m\u001b[43m \u001b[49m\u001b[43mframe\u001b[49m\u001b[43m,\u001b[49m\u001b[43m \u001b[49m\u001b[43mevent\u001b[49m\u001b[43m,\u001b[49m\u001b[43m \u001b[49m\u001b[43marg\u001b[49m\u001b[43m,\u001b[49m\u001b[43m \u001b[49m\u001b[43msuspend_type\u001b[49m\u001b[43m,\u001b[49m\u001b[43m \u001b[49m\u001b[43mfrom_this_thread\u001b[49m\u001b[43m,\u001b[49m\u001b[43m \u001b[49m\u001b[43mframes_tracker\u001b[49m\u001b[43m)\u001b[49m\n\u001b[0;32m   2072\u001b[0m frames_list \u001b[38;5;241m=\u001b[39m \u001b[38;5;28;01mNone\u001b[39;00m\n\u001b[0;32m   2074\u001b[0m \u001b[38;5;28;01mif\u001b[39;00m keep_suspended:\n\u001b[0;32m   2075\u001b[0m     \u001b[38;5;66;03m# This means that we should pause again after a set next statement.\u001b[39;00m\n",
      "File \u001b[1;32m~\\AppData\\Roaming\\Python\\Python311\\site-packages\\debugpy\\_vendored\\pydevd\\pydevd.py:2106\u001b[0m, in \u001b[0;36mPyDB._do_wait_suspend\u001b[1;34m(self, thread, frame, event, arg, suspend_type, from_this_thread, frames_tracker)\u001b[0m\n\u001b[0;32m   2103\u001b[0m         \u001b[38;5;28mself\u001b[39m\u001b[38;5;241m.\u001b[39m_call_input_hook()\n\u001b[0;32m   2105\u001b[0m     \u001b[38;5;28mself\u001b[39m\u001b[38;5;241m.\u001b[39mprocess_internal_commands()\n\u001b[1;32m-> 2106\u001b[0m     time\u001b[38;5;241m.\u001b[39msleep(\u001b[38;5;241m0.01\u001b[39m)\n\u001b[0;32m   2108\u001b[0m \u001b[38;5;28mself\u001b[39m\u001b[38;5;241m.\u001b[39mcancel_async_evaluation(get_current_thread_id(thread), \u001b[38;5;28mstr\u001b[39m(\u001b[38;5;28mid\u001b[39m(frame)))\n\u001b[0;32m   2110\u001b[0m \u001b[38;5;66;03m# process any stepping instructions\u001b[39;00m\n",
      "\u001b[1;31mKeyboardInterrupt\u001b[0m: "
     ]
    }
   ],
   "source": [
    "import json\n",
    "\n",
    "archivo_json = 'D:/Universidad/Carrera/2024-10/Semantic Web/semantic-web/second-task/metadata_keywords.json'\n",
    "\n",
    "# Abrimos el archivo JSON para leer los datos\n",
    "with open(archivo_json, 'r', encoding='utf-8') as archivo:\n",
    "    datos = json.load(archivo)\n",
    "\n",
    "# Función para verificar si una instancia ya existe en la ontología\n",
    "def instance_exists(graph, instance_uri):\n",
    "    return (instance_uri, None, None) in graph\n",
    "\n",
    "# Iteramos sobre cada paper usando su ID único\n",
    "for paper_id, paper_content in datos.items():\n",
    "        \n",
    "    # El titulo es lo que se carga como clase en la ontología\n",
    "    paper_class = paper_content.get('title', '')  # Crear un URI para el paper usando el ID del paper\n",
    "    if paper_class != '' or paper_class is not None:\n",
    "        paper_uri = UEV[paper_class]\n",
    "        paper_exists = instance_exists(g, paper_uri)\n",
    "\n",
    "        # Si el paper no existe, lo agregamos a la ontología\n",
    "        if not paper_exists:\n",
    "            g.add((paper_uri, RDF.type, UEV.Paper))\n",
    "\n",
    "        # Agrega los valores de las propiedades del paper a la ontología\n",
    "        # Con tal de que no sean vacíos o '' (en cuyo caso no se agregan)\n",
    "        if paper_content.get('title', '') != '':\n",
    "            g.add((paper_uri, UEV.Title, Literal(paper_content.get('title', ''))))\n",
    "        if paper_content.get('abstract', '') != '':\n",
    "            g.add((paper_uri, UEV.Abstract, Literal(paper_content.get('abstract', ''))))\n",
    "        if paper_content.get('introduction', '') != '':\n",
    "            g.add((paper_uri, UEV.Introduction, Literal(paper_content.get('introduction', ''))))\n",
    "        if paper_content.get('conclusion', '') != '':\n",
    "            g.add((paper_uri, UEV.Conclusion, Literal(paper_content.get('conclusion', ''))))\n",
    "        if paper_content.get('publication_year', '') != '':\n",
    "            g.add((paper_uri, UEV.Publication_Date, Literal(paper_content.get('publication_year', ''), datatype=XSD.string)))\n",
    "\n",
    "        # Iteramos sobre cada autor del paper\n",
    "        for author in paper_content.get('paper_authors', []):\n",
    "            author_class = author.get('paper_authors_forename', '') + author.get('paper_authors_surname', '')\n",
    "            if author_class != '' or author_class is not None:\n",
    "                author_uri = UEV[author_class]\n",
    "                author_exists = instance_exists(g, author_uri)\n",
    "\n",
    "                # Si el autor no existe, lo agregamos a la ontología\n",
    "                if not author_exists:\n",
    "                    g.add((author_uri, RDF.type, UEV.Author))\n",
    "\n",
    "                # Agrega los valores de las propiedades del autor a la ontología\n",
    "                # Con tal de que no sean vacíos o '' (en cuyo caso no se agregan)\n",
    "                if author.get('paper_authors_forename', '') != '':\n",
    "                    g.add((author_uri, UEV.Forename, Literal(author.get('paper_authors_forename', ''))))\n",
    "                if author.get('paper_authors_surname', '') != '':\n",
    "                    g.add((author_uri, UEV.Surname, Literal(author.get('paper_authors_surname', ''))))\n",
    "                if author.get('paper_authors_email', '') != '':\n",
    "                    g.add((author_uri, UEV.Email, Literal(author.get('paper_authors_email', ''))))\n",
    "                if author.get('paper_authors_affiliation', '') != '':\n",
    "                    g.add((author_uri, UEV.Affiliation, Literal(author.get('paper_authors_affiliation', ''))))\n",
    "                if author.get('paper_authors_address_line', '') != '':\n",
    "                    g.add((author_uri, UEV.Address_Line, Literal(author.get('paper_authors_address_line', ''))))\n",
    "                if author.get('paper_authors_post_code', '') != '':\n",
    "                    g.add((author_uri, UEV.Post_code, Literal(author.get('paper_authors_post_code', ''))))\n",
    "                if author.get('paper_authors_settlement', '') != '':\n",
    "                    g.add((author_uri, UEV.Settlement, Literal(author.get('paper_authors_settlement', ''))))\n",
    "                if author.get('paper_authors_country', '') != '' or author.get('paper_authors_country', '') is not None:\n",
    "                    # Se crea un URI para el país del autor\n",
    "                    country_uri = UEV[author.get('paper_authors_country', '')]\n",
    "\n",
    "                    # Si el país no existe, lo agregamos a la ontología\n",
    "                    if not instance_exists(g, country_uri):\n",
    "                        g.add((country_uri, RDF.type, UEV.Country))\n",
    "                    \n",
    "                    g.add((author_uri, UEV.hasCountry, country_uri))\n",
    "\n",
    "                # Relacionamos el autor con el paper\n",
    "                g.add((author_uri, UEV.isAuthorOf, paper_uri))\n",
    "\n",
    "        # Iteramos sobre cada referencia del paper\n",
    "        for reference in paper_content.get('paper_references', []):\n",
    "            reference_class = reference.get('reference_paper_title', '')\n",
    "            if reference_class != '' or reference_class is not None:\n",
    "                reference_uri = UEV[reference_class]\n",
    "                reference_exists = instance_exists(g, reference_uri)\n",
    "\n",
    "                # Si la referencia no existe, la agregamos a la ontología\n",
    "                if not reference_exists:\n",
    "                    g.add((reference_uri, RDF.type, UEV.Reference))\n",
    "\n",
    "                # Agrega los valores de las propiedades de la referencia a la ontología\n",
    "                # Con tal de que no sean vacíos o '' (en cuyo caso no se agregan)\n",
    "                if reference.get('reference_paper_title', '') != '':\n",
    "                    g.add((reference_uri, UEV.Title, Literal(reference.get('reference_paper_title', ''))))\n",
    "                if reference.get('reference_paper_publication_date', '') != '':\n",
    "                    g.add((reference_uri, UEV.Publication_Date, Literal(reference.get('reference_paper_publication_date', ''), datatype=XSD.string)))\n",
    "                if reference.get('reference_paper_meeting', '') != '' or reference.get('reference_paper_meeting', '') is not None:\n",
    "                    # Se crea un URI para la conferencia de la referencia   \n",
    "                    meeting_uri = UEV[reference.get('reference_paper_meeting', '')]\n",
    "\n",
    "                    # Si la conferencia no existe, la agregamos a la ontología\n",
    "                    if not instance_exists(g, meeting_uri):\n",
    "                        g.add((meeting_uri, RDF.type, UEV.Meeting))\n",
    "\n",
    "                    g.add((reference_uri, UEV.hasMeeting, meeting_uri))\n",
    "\n",
    "                if reference.get('reference_paper_city', '') != '':\n",
    "                    # Se crea un URI para la ciudad de la referencia\n",
    "                    city_uri = UEV[reference.get('reference_paper_city', '')]\n",
    "\n",
    "                    # Si la ciudad no existe, la agregamos a la ontología\n",
    "                    if not instance_exists(g, city_uri):\n",
    "                        g.add((city_uri, RDF.type, UEV.City))\n",
    "\n",
    "                    g.add((reference_uri, UEV.hasCity, city_uri))\n",
    "\n",
    "                if reference.get('reference_paper_country', '') != '':\n",
    "                    # Se crea un URI para el país de la referencia\n",
    "                    country_uri = UEV[reference.get('reference_paper_country', '')]\n",
    "\n",
    "                    # Si el país no existe, lo agregamos a la ontología\n",
    "                    if not instance_exists(g, country_uri):\n",
    "                        g.add((country_uri, RDF.type, UEV.Country))\n",
    "\n",
    "                    g.add((reference_uri, UEV.hasCountry, country_uri))\n",
    "\n",
    "                if reference.get('reference_paper_note', '') != '':\n",
    "                    g.add((reference_uri, UEV.Note, Literal(reference.get('reference_paper_note', ''))))\n",
    "\n",
    "                # Relacionamos el paper con la referencia\n",
    "                g.add((paper_uri, UEV.hasReference, reference_uri))\n",
    "\n",
    "\n",
    "                # Iteramos sobre los autores de las referencias\n",
    "                for ref_author in reference.get('reference_paper_authors', []):\n",
    "                    ref_author_class = ref_author.get('reference_paper_author_forename', '') + ref_author.get('reference_paper_author_surname', '')\n",
    "                    if ref_author_class != '' or ref_author_class is not None:\n",
    "                        ref_author_uri = UEV[ref_author_class]\n",
    "                        ref_author_exists = instance_exists(g, ref_author_uri)\n",
    "\n",
    "                        # Si el autor de la referencia no existe, lo agregamos a la ontología\n",
    "                        if not ref_author_exists:\n",
    "                            g.add((ref_author_uri, RDF.type, UEV.Author))\n",
    "\n",
    "                        # Agrega los valores de las propiedades del autor de la referencia a la ontología\n",
    "                        # Con tal de que no sean vacíos o '' (en cuyo caso no se agregan)\n",
    "                        if ref_author.get('reference_paper_author_forename', '') != '':\n",
    "                            g.add((ref_author_uri, UEV.Forename, Literal(ref_author.get('reference_paper_author_forename', ''))))\n",
    "                        if ref_author.get('reference_paper_author_surname', '') != '':\n",
    "                            g.add((ref_author_uri, UEV.Surname, Literal(ref_author.get('reference_paper_author_surname', ''))))\n",
    "\n",
    "                        # Relacionamos la referencia con el autor hasAuthor\n",
    "                        g.add((ref_author_uri, UEV.isAuthorOf, reference_uri))\n",
    "\n",
    "\n",
    "\n"
   ]
  }
 ],
 "metadata": {
  "kernelspec": {
   "display_name": "Python 3",
   "language": "python",
   "name": "python3"
  },
  "language_info": {
   "codemirror_mode": {
    "name": "ipython",
    "version": 3
   },
   "file_extension": ".py",
   "mimetype": "text/x-python",
   "name": "python",
   "nbconvert_exporter": "python",
   "pygments_lexer": "ipython3",
   "version": "3.10.13"
  }
 },
 "nbformat": 4,
 "nbformat_minor": 2
}
