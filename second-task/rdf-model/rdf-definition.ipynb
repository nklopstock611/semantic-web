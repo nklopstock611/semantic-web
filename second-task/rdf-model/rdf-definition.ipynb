{
 "cells": [
  {
   "cell_type": "markdown",
   "metadata": {},
   "source": [
    "# Definición Ontología - Entrega 2 Proyecto Semantic Web\n"
   ]
  },
  {
   "cell_type": "markdown",
   "metadata": {},
   "source": [
    "En este archivo se define la ontología usada para el proyecto. A partir de los datos obtenidos en la entrega 1 se definen:\n",
    "- Tipos de datos\n",
    "- Clases y subclases\n",
    "- Propiedades y subpropiedades\n",
    "- Restricciones y características de las entidades"
   ]
  },
  {
   "cell_type": "markdown",
   "metadata": {},
   "source": [
    "## Instalación dependencias "
   ]
  },
  {
   "cell_type": "code",
   "execution_count": 2,
   "metadata": {},
   "outputs": [
    {
     "name": "stdout",
     "output_type": "stream",
     "text": [
      "Requirement already satisfied: rdflib in c:\\python311\\lib\\site-packages (7.0.0)\n",
      "Requirement already satisfied: isodate<0.7.0,>=0.6.0 in c:\\python311\\lib\\site-packages (from rdflib) (0.6.1)\n",
      "Requirement already satisfied: pyparsing<4,>=2.1.0 in c:\\python311\\lib\\site-packages (from rdflib) (3.1.2)\n",
      "Requirement already satisfied: six in c:\\users\\asus\\appdata\\roaming\\python\\python311\\site-packages (from isodate<0.7.0,>=0.6.0->rdflib) (1.16.0)\n"
     ]
    }
   ],
   "source": [
    "!pip install rdflib"
   ]
  },
  {
   "cell_type": "code",
   "execution_count": 4,
   "metadata": {},
   "outputs": [],
   "source": [
    "from rdflib import Graph, Literal, RDF, URIRef, Namespace, BNode, XSD, Bag, Seq\n",
    "from rdflib.namespace import RDF, RDFS, OWL"
   ]
  },
  {
   "cell_type": "markdown",
   "metadata": {},
   "source": [
    "## Definición de espacio de nombres"
   ]
  },
  {
   "cell_type": "code",
   "execution_count": 5,
   "metadata": {},
   "outputs": [],
   "source": [
    "g = Graph()\n",
    "\n",
    "# Definición de los prefijos de los espacios de nombres\n",
    "g.bind('rdf', RDF)\n",
    "g.bind('rdfs', RDFS)\n",
    "g.bind('owl', OWL)\n",
    "g.bind(\"xsd\", XSD)\n",
    "\n",
    "# Definición de los prefijos de ontologías y recursos\n",
    "UEX = Namespace(\"http://www.uniandes.web.semantica.example.org/\")\n",
    "UEV = Namespace(\"http://www.uniandes.web.semantica.ejemplo.org/voca#\")\n",
    "g.bind('uex', UEX)\n",
    "g.bind('uev', UEV)"
   ]
  },
  {
   "cell_type": "markdown",
   "metadata": {},
   "source": [
    "## Definición de clases"
   ]
  },
  {
   "cell_type": "markdown",
   "metadata": {},
   "source": [
    "De la primera entrega se identificaron diferentes clases que hacen parte de la ontología de papers. En esta sección se definen estas clases usando la definición de tipo rdfs: Class. Las clases definidas son las siguientes:\n",
    "- Paper\n",
    "- Author\n",
    "- Referencia (Subclase Paper)"
   ]
  },
  {
   "cell_type": "code",
   "execution_count": null,
   "metadata": {},
   "outputs": [],
   "source": [
    "# Clases principales\n",
    "g.add((UEV.Paper, RDF.type, RDFS.Class))\n",
    "g.add((UEV.Author, RDF.type, RDFS.Class))\n",
    "g.add((UEV.Reference, RDF.type, RDFS.Class))"
   ]
  },
  {
   "cell_type": "markdown",
   "metadata": {},
   "source": [
    "### Definición de Subclases"
   ]
  },
  {
   "cell_type": "markdown",
   "metadata": {},
   "source": [
    "Se identifica que una referencia sigue siendo un paper pero es una subclase de paper, por lo que se define acorde."
   ]
  },
  {
   "cell_type": "code",
   "execution_count": null,
   "metadata": {},
   "outputs": [],
   "source": [
    "g.add((UEV.Reference, RDFS.subClassOf, UEV.Paper))"
   ]
  },
  {
   "cell_type": "markdown",
   "metadata": {},
   "source": [
    "## Definición de Propiedades"
   ]
  },
  {
   "cell_type": "markdown",
   "metadata": {},
   "source": [
    "De la primera entrega se identificaron diferentes propiedades que hacen parte de la ontología de papers. En esta sección se definen estas propiedades usando la definición de tipo rdfs: Property. Las propiedades definidas de atributos son las siguientes:\n",
    "- Paper\n",
    "  - Text\n",
    "    - Title (Sub)\n",
    "    - Abstract (Sub)\n",
    "    - Concept_Anotation (Sub)\n",
    "  - Publication_Date\n",
    "- Author\n",
    "  - Forename\n",
    "  - Surname\n",
    "  - Email\n",
    "  - Afilliation\n",
    "  - Adress_Line\n",
    "  - Post_code\n",
    "  - Settlement\n",
    "  - Country\n",
    "- Referencia (Subclase Paper)\n",
    "  - Title\n",
    "  - Publication_Date\n",
    "  - Meeting\n",
    "  - City\n",
    "  - Country\n",
    "  - Note\n",
    "\n",
    "Así mismo, se identificaron las siguientes relaciones entre clases :\n",
    "- Un paper tiene autores\n",
    "- Un autor tiene papers\n",
    "- Un paper tiene referencias\n",
    "- Una referencia esta asociada a papers"
   ]
  },
  {
   "cell_type": "code",
   "execution_count": null,
   "metadata": {},
   "outputs": [],
   "source": [
    "# Valores de Paper\n",
    "g.add((UEV.Text, RDF.type, RDF.Property))\n",
    "g.add((UEV.Title, RDF.type, RDF.Property))\n",
    "g.add((UEV.Abstract, RDF.type, RDF.Property))\n",
    "g.add((UEV.Concept_Anotation, RDF.type, RDF.Property))\n",
    "g.add((UEV.Publication_Date, RDF.type, RDF.Property))\n",
    "\n",
    "# Valores de Author\n",
    "g.add((UEV.Forename, RDF.type, RDF.Property))\n",
    "g.add((UEV.Surname, RDF.type, RDF.Property))\n",
    "g.add((UEV.Email, RDF.type, RDF.Property))\n",
    "g.add((UEV.Affiliation, RDF.type, RDF.Property))\n",
    "g.add((UEV.Address_Line, RDF.type, RDF.Property))\n",
    "g.add((UEV.Post_code, RDF.type, RDF.Property))\n",
    "g.add((UEV.Settlement, RDF.type, RDF.Property))\n",
    "g.add((UEV.Country, RDF.type, RDF.Property))\n",
    "\n",
    "# Valores especificos de referencias\n",
    "g.add((UEV.Meeting, RDF.type, RDF.Property))\n",
    "g.add((UEV.City, RDF.type, RDF.Property))\n",
    "g.add((UEV.Note, RDF.type, RDF.Property))\n",
    "\n",
    "# Relaciones\n",
    "g.add((UEV.hasAuthor, RDF.type, RDF.Property))\n",
    "g.add((UEV.hasReference, RDF.type, RDF.Property))\n",
    "g.add((UEV.isAuthorOf, RDF.type, RDF.Property))\n",
    "g.add((UEV.isReferencedBy, RDF.type, RDF.Property))"
   ]
  },
  {
   "cell_type": "markdown",
   "metadata": {},
   "source": [
    "### Definición de Subpropiedades"
   ]
  },
  {
   "cell_type": "markdown",
   "metadata": {},
   "source": [
    "Se identifica que existen propiedades que hace referencia a texto de los papers, por lo que Title, Abstract y Concept_Anotation se pueden considerar subpropiedades de Text"
   ]
  },
  {
   "cell_type": "code",
   "execution_count": null,
   "metadata": {},
   "outputs": [],
   "source": [
    "g.add((UEV.Title, RDFS.subPropertyOf, UEV.Text))\n",
    "g.add((UEV.Abstract, RDFS.subPropertyOf, UEV.Text))\n",
    "g.add((UEV.Concept_Anotation, RDFS.subPropertyOf, UEV.Text))"
   ]
  },
  {
   "cell_type": "markdown",
   "metadata": {},
   "source": [
    "### Definición de Dominio y Rango"
   ]
  },
  {
   "cell_type": "markdown",
   "metadata": {},
   "source": [
    "En esta sección se definieron los dominios y rangos para las propiedades definidas anteriormente"
   ]
  },
  {
   "cell_type": "code",
   "execution_count": null,
   "metadata": {},
   "outputs": [],
   "source": [
    "# Texto \n",
    "g.add((UEV.Text, RDFS.domain, UEV.Paper))\n",
    "g.add((UEV.Text, RDFS.range, XSD.string))\n",
    "# Title\n",
    "g.add((UEV.Title, RDFS.domain, UEV.Paper))\n",
    "g.add((UEV.Title, RDFS.range, XSD.string))\n",
    "# Abstract\n",
    "g.add((UEV.Abstract, RDFS.domain, UEV.Paper))\n",
    "g.add((UEV.Abstract, RDFS.range, XSD.string))\n",
    "# Concept_Anotation\n",
    "g.add((UEV.Concept_Anotation, RDFS.domain, UEV.Paper))\n",
    "g.add((UEV.Concept_Anotation, RDFS.range, XSD.string))\n",
    "# Publication_Date (Puede tener año, año-mes o año-mes-día) -- Revisar si es posible estandarizar formato y pasar a date\n",
    "g.add((UEV.Publication_Date, RDFS.domain, UEV.Paper))\n",
    "g.add((UEV.Publication_Date, RDFS.range, XSD.string))\n",
    "\n",
    "# Forename\n",
    "g.add((UEV.Forename, RDFS.domain, UEV.Author))\n",
    "g.add((UEV.Forename, RDFS.range, XSD.string))\n",
    "# Surname\n",
    "g.add((UEV.Surname, RDFS.domain, UEV.Author))\n",
    "g.add((UEV.Surname, RDFS.range, XSD.string))\n",
    "# Email\n",
    "g.add((UEV.Email, RDFS.domain, UEV.Author))\n",
    "g.add((UEV.Email, RDFS.range, XSD.string))\n",
    "# Affiliation\n",
    "g.add((UEV.Affiliation, RDFS.domain, UEV.Author))\n",
    "g.add((UEV.Affiliation, RDFS.range, XSD.string))\n",
    "# Address_Line\n",
    "g.add((UEV.Address_Line, RDFS.domain, UEV.Author))\n",
    "g.add((UEV.Address_Line, RDFS.range, XSD.string))\n",
    "# Post_code -- Puede ser numero\n",
    "g.add((UEV.Post_code, RDFS.domain, UEV.Author))\n",
    "g.add((UEV.Post_code, RDFS.range, XSD.string))\n",
    "# Settlement\n",
    "g.add((UEV.Settlement, RDFS.domain, UEV.Author))\n",
    "g.add((UEV.Settlement, RDFS.range, XSD.string))\n",
    "# Country -- Pensar modelarlo como clase\n",
    "g.add((UEV.Country, RDFS.domain, UEV.Author))\n",
    "g.add((UEV.Country, RDFS.range, XSD.string))\n",
    "# Meeting\n",
    "g.add((UEV.Meeting, RDFS.domain, UEV.Reference))\n",
    "g.add((UEV.Meeting, RDFS.range, XSD.string))\n",
    "# City -- Pensar modelarlo como clase\n",
    "g.add((UEV.City, RDFS.domain, UEV.Reference))\n",
    "g.add((UEV.City, RDFS.range, XSD.string))\n",
    "# Note\n",
    "g.add((UEV.Note, RDFS.domain, UEV.Reference))\n",
    "g.add((UEV.Note, RDFS.range, XSD.string))\n",
    "\n",
    "# Relaciones\n",
    "g.add((UEV.hasAuthor, RDFS.domain, UEV.Paper))\n",
    "g.add((UEV.hasAuthor, RDFS.range, UEV.Author))\n",
    "\n",
    "g.add((UEV.hasReference, RDFS.domain, UEV.Paper))\n",
    "g.add((UEV.hasReference, RDFS.range, UEV.Reference))\n",
    "\n",
    "g.add((UEV.isAuthorOf, RDFS.domain, UEV.Author))\n",
    "g.add((UEV.isAuthorOf, RDFS.range, UEV.Paper))\n",
    "\n",
    "g.add((UEV.isReferencedBy, RDFS.domain, UEV.Reference))\n",
    "g.add((UEV.isReferencedBy, RDFS.range, UEV.Paper))"
   ]
  },
  {
   "cell_type": "markdown",
   "metadata": {},
   "source": [
    "## Definición Restricciones y Caracteristicas Ontología"
   ]
  },
  {
   "cell_type": "markdown",
   "metadata": {},
   "source": [
    "En esta sección se definen las restricciones y caracteristicas para las clases y propiedades, por lo que se dividira en estas dos secciones"
   ]
  },
  {
   "cell_type": "code",
   "execution_count": null,
   "metadata": {},
   "outputs": [],
   "source": [
    "#  Clases Disjuntas\n",
    "g.add((UEV.Paper, OWL.disjointWith, UEV.Author))\n",
    "\n",
    "# Restricciones Texto Functional Property\n"
   ]
  },
  {
   "cell_type": "markdown",
   "metadata": {},
   "source": [
    "# Definición Instancias"
   ]
  },
  {
   "cell_type": "markdown",
   "metadata": {},
   "source": [
    "Las instancias en este caso se definen a partir del desarrollo en la entrega 1, por lo que se pasan los datos desde un JSON a la ontología"
   ]
  },
  {
   "cell_type": "code",
   "execution_count": 3,
   "metadata": {},
   "outputs": [
    {
     "ename": "FileNotFoundError",
     "evalue": "[Errno 2] No such file or directory: 'first-task/metadata.json'",
     "output_type": "error",
     "traceback": [
      "\u001b[1;31m---------------------------------------------------------------------------\u001b[0m",
      "\u001b[1;31mFileNotFoundError\u001b[0m                         Traceback (most recent call last)",
      "Cell \u001b[1;32mIn[3], line 6\u001b[0m\n\u001b[0;32m      3\u001b[0m archivo_json \u001b[38;5;241m=\u001b[39m \u001b[38;5;124m'\u001b[39m\u001b[38;5;124mfirst-task/metadata.json\u001b[39m\u001b[38;5;124m'\u001b[39m\n\u001b[0;32m      5\u001b[0m \u001b[38;5;66;03m# Abrimos el archivo JSON para leer los datos\u001b[39;00m\n\u001b[1;32m----> 6\u001b[0m \u001b[38;5;28;01mwith\u001b[39;00m \u001b[38;5;28;43mopen\u001b[39;49m\u001b[43m(\u001b[49m\u001b[43marchivo_json\u001b[49m\u001b[43m,\u001b[49m\u001b[43m \u001b[49m\u001b[38;5;124;43m'\u001b[39;49m\u001b[38;5;124;43mr\u001b[39;49m\u001b[38;5;124;43m'\u001b[39;49m\u001b[43m,\u001b[49m\u001b[43m \u001b[49m\u001b[43mencoding\u001b[49m\u001b[38;5;241;43m=\u001b[39;49m\u001b[38;5;124;43m'\u001b[39;49m\u001b[38;5;124;43mutf-8\u001b[39;49m\u001b[38;5;124;43m'\u001b[39;49m\u001b[43m)\u001b[49m \u001b[38;5;28;01mas\u001b[39;00m archivo:\n\u001b[0;32m      7\u001b[0m     datos \u001b[38;5;241m=\u001b[39m json\u001b[38;5;241m.\u001b[39mload(archivo)\n\u001b[0;32m      9\u001b[0m \u001b[38;5;66;03m# Función auxiliar para imprimir recursivamente claves y valores\u001b[39;00m\n",
      "File \u001b[1;32m~\\AppData\\Roaming\\Python\\Python311\\site-packages\\IPython\\core\\interactiveshell.py:324\u001b[0m, in \u001b[0;36m_modified_open\u001b[1;34m(file, *args, **kwargs)\u001b[0m\n\u001b[0;32m    317\u001b[0m \u001b[38;5;28;01mif\u001b[39;00m file \u001b[38;5;129;01min\u001b[39;00m {\u001b[38;5;241m0\u001b[39m, \u001b[38;5;241m1\u001b[39m, \u001b[38;5;241m2\u001b[39m}:\n\u001b[0;32m    318\u001b[0m     \u001b[38;5;28;01mraise\u001b[39;00m \u001b[38;5;167;01mValueError\u001b[39;00m(\n\u001b[0;32m    319\u001b[0m         \u001b[38;5;124mf\u001b[39m\u001b[38;5;124m\"\u001b[39m\u001b[38;5;124mIPython won\u001b[39m\u001b[38;5;124m'\u001b[39m\u001b[38;5;124mt let you open fd=\u001b[39m\u001b[38;5;132;01m{\u001b[39;00mfile\u001b[38;5;132;01m}\u001b[39;00m\u001b[38;5;124m by default \u001b[39m\u001b[38;5;124m\"\u001b[39m\n\u001b[0;32m    320\u001b[0m         \u001b[38;5;124m\"\u001b[39m\u001b[38;5;124mas it is likely to crash IPython. If you know what you are doing, \u001b[39m\u001b[38;5;124m\"\u001b[39m\n\u001b[0;32m    321\u001b[0m         \u001b[38;5;124m\"\u001b[39m\u001b[38;5;124myou can use builtins\u001b[39m\u001b[38;5;124m'\u001b[39m\u001b[38;5;124m open.\u001b[39m\u001b[38;5;124m\"\u001b[39m\n\u001b[0;32m    322\u001b[0m     )\n\u001b[1;32m--> 324\u001b[0m \u001b[38;5;28;01mreturn\u001b[39;00m \u001b[43mio_open\u001b[49m\u001b[43m(\u001b[49m\u001b[43mfile\u001b[49m\u001b[43m,\u001b[49m\u001b[43m \u001b[49m\u001b[38;5;241;43m*\u001b[39;49m\u001b[43margs\u001b[49m\u001b[43m,\u001b[49m\u001b[43m \u001b[49m\u001b[38;5;241;43m*\u001b[39;49m\u001b[38;5;241;43m*\u001b[39;49m\u001b[43mkwargs\u001b[49m\u001b[43m)\u001b[49m\n",
      "\u001b[1;31mFileNotFoundError\u001b[0m: [Errno 2] No such file or directory: 'first-task/metadata.json'"
     ]
    }
   ],
   "source": [
    "import json\n",
    "\n",
    "archivo_json = 'first-task/metadata.json'\n",
    "\n",
    "# Abrimos el archivo JSON para leer los datos\n",
    "with open(archivo_json, 'r', encoding='utf-8') as archivo:\n",
    "    datos = json.load(archivo)\n",
    "\n",
    "# Función auxiliar para imprimir recursivamente claves y valores\n",
    "def imprimir_claves_valores(objeto, prefijo=''):\n",
    "    if isinstance(objeto, dict):\n",
    "        for k, v in objeto.items():\n",
    "            nueva_clave = f\"{prefijo}.{k}\" if prefijo else k\n",
    "            imprimir_claves_valores(v, nueva_clave)\n",
    "    elif isinstance(objeto, list):\n",
    "        for i, item in enumerate(objeto):\n",
    "            nueva_clave = f\"{prefijo}[{i}]\"\n",
    "            imprimir_claves_valores(item, nueva_clave)\n",
    "    else:\n",
    "        print(f\"{prefijo}: {objeto}\")\n",
    "\n",
    "# Llamamos a la función auxiliar con los datos JSON\n",
    "imprimir_claves_valores(datos)\n",
    "\n",
    "\n",
    "    \n",
    "   \n",
    "\n"
   ]
  }
 ],
 "metadata": {
  "kernelspec": {
   "display_name": "Python 3",
   "language": "python",
   "name": "python3"
  },
  "language_info": {
   "codemirror_mode": {
    "name": "ipython",
    "version": 3
   },
   "file_extension": ".py",
   "mimetype": "text/x-python",
   "name": "python",
   "nbconvert_exporter": "python",
   "pygments_lexer": "ipython3",
   "version": "3.11.5"
  }
 },
 "nbformat": 4,
 "nbformat_minor": 2
}
